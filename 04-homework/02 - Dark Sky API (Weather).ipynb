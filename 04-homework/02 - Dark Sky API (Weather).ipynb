{
 "cells": [
  {
   "cell_type": "markdown",
   "metadata": {},
   "source": [
    "# Dark Sky API (Weather)\n",
    "\n",
    "Answer the following questions using the [Dark Sky API](https://darksky.net/dev/). I've added three cells for each question but you're free to use more or less! Hold `Shift` and hit `Enter` to run a cell, and use the `+` on the top left to add a new cell to a notebook.\n",
    "\n",
    "If you spend some time reading the documentation your life will probably be a little bit easier!\n",
    "\n",
    "## 0) Import any libraries you might need\n",
    "\n",
    "- *Tip: We're going to be downloading things from the internet, so we probably need `requests`.*"
   ]
  },
  {
   "cell_type": "code",
   "execution_count": 21,
   "metadata": {},
   "outputs": [],
   "source": [
    "from dotenv import load_dotenv\n",
    "load_dotenv()\n",
    "import os\n",
    "\n",
    "DARK_SKY_KEY = os.getenv('DARK_SKY_KEY')"
   ]
  },
  {
   "cell_type": "code",
   "execution_count": 22,
   "metadata": {},
   "outputs": [],
   "source": [
    "import requests\n",
    "response = requests.get(f'https://api.darksky.net/forecast/{DARK_SKY_KEY}/37.8267,-122.4233')\n",
    "darksky = response.json()"
   ]
  },
  {
   "cell_type": "markdown",
   "metadata": {
    "collapsed": true
   },
   "source": [
    "## 1) Make a request from the Dark Sky API for where you were born (or lived, or want to visit!).\n",
    "\n",
    "- *Tip: The URL we used in class was for a place near San Francisco. What was the format of the endpoint that made this happen?*\n",
    "- *Tip: Save the URL as a separate variable, and be sure to not have `[` and `]` inside.*\n",
    "- *Tip: How is north vs. south and east vs. west latitude/longitude represented? Is it the normal North/South/East/West?*\n",
    "- *Tip: You know it's JSON, but Python doesn't! Make sure you aren't trying to deal with plain text.* \n",
    "- *Tip: Once you've imported the JSON into a variable, check the timezone's name to make sure it seems like it got the right part of the world!*"
   ]
  },
  {
   "cell_type": "code",
   "execution_count": 23,
   "metadata": {},
   "outputs": [],
   "source": [
    "import requests\n",
    "response = requests.get(f'https://api.darksky.net/forecast/{DARK_SKY_KEY}/9.9,-84')\n",
    "costa_rica = response.json()"
   ]
  },
  {
   "cell_type": "markdown",
   "metadata": {},
   "source": [
    "## 2) What's the current wind speed? How much warmer does it feel than it actually is?\n",
    "\n",
    "- *Tip: You can do this by browsing through the dictionaries, but it might be easier to read the documentation*\n",
    "- *Tip: For the second half: it **is** one temperature, and it **feels** a different temperature. Calculate the difference.*"
   ]
  },
  {
   "cell_type": "code",
   "execution_count": 24,
   "metadata": {},
   "outputs": [
    {
     "name": "stdout",
     "output_type": "stream",
     "text": [
      "dict_keys(['latitude', 'longitude', 'timezone', 'currently', 'hourly', 'daily', 'flags', 'offset'])\n"
     ]
    }
   ],
   "source": [
    "print(costa_rica.keys())"
   ]
  },
  {
   "cell_type": "code",
   "execution_count": 25,
   "metadata": {},
   "outputs": [
    {
     "name": "stdout",
     "output_type": "stream",
     "text": [
      "{'time': 1560190651, 'summary': 'Light Rain', 'icon': 'rain', 'precipIntensity': 0.1343, 'precipProbability': 0.35, 'precipType': 'rain', 'temperature': 78.82, 'apparentTemperature': 79.02, 'dewPoint': 61.66, 'humidity': 0.56, 'pressure': 1015.43, 'windSpeed': 8.6, 'windGust': 8.8, 'windBearing': 62, 'cloudCover': 0.83, 'uvIndex': 7, 'visibility': 0, 'ozone': 263.88}\n"
     ]
    }
   ],
   "source": [
    "CR_currently = (costa_rica['currently'])\n",
    "print(CR_currently)"
   ]
  },
  {
   "cell_type": "code",
   "execution_count": 26,
   "metadata": {},
   "outputs": [
    {
     "name": "stdout",
     "output_type": "stream",
     "text": [
      "8.6\n"
     ]
    }
   ],
   "source": [
    "print(CR_currently['windSpeed'])"
   ]
  },
  {
   "cell_type": "code",
   "execution_count": 44,
   "metadata": {},
   "outputs": [
    {
     "name": "stdout",
     "output_type": "stream",
     "text": [
      "0.20000000000000284\n"
     ]
    }
   ],
   "source": [
    "print(CR_currently['apparentTemperature'] - CR_currently['temperature'])"
   ]
  },
  {
   "cell_type": "markdown",
   "metadata": {},
   "source": [
    "## 3) Today's forecast is the FIRST daily forecast. For the place you decided on above, how much of the moon is currently visible?\n",
    "\n",
    "- *Tip: This does **not** use the `currently` key.*\n",
    "- *Tip: It might be helpful to save the forecast into its own variable*"
   ]
  },
  {
   "cell_type": "code",
   "execution_count": 27,
   "metadata": {},
   "outputs": [
    {
     "name": "stdout",
     "output_type": "stream",
     "text": [
      "dict_keys(['summary', 'icon', 'data'])\n"
     ]
    }
   ],
   "source": [
    "CR_daily = (costa_rica['daily'])\n",
    "print(CR_daily.keys())"
   ]
  },
  {
   "cell_type": "code",
   "execution_count": 28,
   "metadata": {},
   "outputs": [],
   "source": [
    "moon = CR_daily['data']\n",
    "for moon in moon:\n",
    "    if moon['time'] == 1560060000:\n",
    "        print(moon['moonPhase'], \"of the moon is currently visible.\")"
   ]
  },
  {
   "cell_type": "markdown",
   "metadata": {},
   "source": [
    "## 4) What's the difference between the high and low temperatures for today?"
   ]
  },
  {
   "cell_type": "code",
   "execution_count": 29,
   "metadata": {},
   "outputs": [
    {
     "name": "stdout",
     "output_type": "stream",
     "text": [
      "8.939999999999998\n"
     ]
    }
   ],
   "source": [
    "print(moon['temperatureHigh'] - moon['temperatureMin'])"
   ]
  },
  {
   "cell_type": "markdown",
   "metadata": {},
   "source": [
    "## 5) Go through the daily forecasts, printing out the next week's worth of predictions.\n",
    "\n",
    "I'd like to know the **high temperature** for each day, and whether it's **hot, warm, or cold** (based on what temperatures you think are hot, warm or cold).\n",
    "\n",
    "- *Tip: Is it returning F or C? You can change them by adding `?units=us` or `?units=si` onto the end of the URL.*\n",
    "- *Tip: You'll need to use an `if` statement to say whether it is hot, warm or cold.*"
   ]
  },
  {
   "cell_type": "code",
   "execution_count": 30,
   "metadata": {},
   "outputs": [
    {
     "name": "stdout",
     "output_type": "stream",
     "text": [
      "It will be 79.22 F, warm on this day of the week.\n",
      "It will be 74.14 F, warm on this day of the week.\n",
      "It will be 74.44 F, warm on this day of the week.\n",
      "It will be 76.51 F, warm on this day of the week.\n",
      "It will be 77 F, warm on this day of the week.\n",
      "It will be 77.03 F, warm on this day of the week.\n",
      "It will be 78.39 F, warm on this day of the week.\n"
     ]
    }
   ],
   "source": [
    "moon = CR_daily['data']\n",
    "for moon in moon:\n",
    "    if moon['temperatureHigh'] > 80:\n",
    "        print(\"It will be\", moon['temperatureHigh'],\"F, hot on this day of the week.\")\n",
    "    if moon['temperatureHigh'] > 74:\n",
    "        print(\"It will be\", moon['temperatureHigh'],\"F, warm on this day of the week.\")\n"
   ]
  },
  {
   "cell_type": "markdown",
   "metadata": {},
   "source": [
    "# 6) What will be the hottest day in the next week? What is the high temperature on that day?\n",
    "\n",
    "It's okay if your result looks like `1453363200`. If you want to be extra-fancy, though, format it as a **real date** - the weird number is called a **UNIX timestamp**, which might help in googling.\n",
    "\n",
    "- *Tip: It's okay to skip this if it seems too difficult!*"
   ]
  },
  {
   "cell_type": "markdown",
   "metadata": {},
   "source": [
    "## 7) What's the weather looking like for the next 24+ hours in Miami, Florida?\n",
    "\n",
    "I'd like to know the temperature for every hour, and if it's going to have cloud cover of more than 50% say \"{temperature} and cloudy\" instead of just the temperature. \n",
    "\n",
    "\n",
    "- *Tip: Be sure to remember how latitude and longitude are done with positive and negative numbers*\n",
    "- *Tip: How do you represent \"50%\" for cloud cover?*"
   ]
  },
  {
   "cell_type": "code",
   "execution_count": 31,
   "metadata": {},
   "outputs": [],
   "source": [
    "import requests\n",
    "response = requests.get(f'https://api.darksky.net/forecast/{DARK_SKY_KEY}/25.7617,%20-80.1918')\n",
    "miami = response.json()"
   ]
  },
  {
   "cell_type": "code",
   "execution_count": 32,
   "metadata": {},
   "outputs": [
    {
     "name": "stdout",
     "output_type": "stream",
     "text": [
      "dict_keys(['latitude', 'longitude', 'timezone', 'currently', 'minutely', 'hourly', 'daily', 'flags', 'offset'])\n"
     ]
    }
   ],
   "source": [
    "print(miami.keys())"
   ]
  },
  {
   "cell_type": "code",
   "execution_count": 33,
   "metadata": {},
   "outputs": [],
   "source": [
    "temp_hourly = miami['hourly']\n",
    "miami_perhour = temp_hourly['data']"
   ]
  },
  {
   "cell_type": "code",
   "execution_count": 34,
   "metadata": {},
   "outputs": [
    {
     "name": "stdout",
     "output_type": "stream",
     "text": [
      "On this hour, it will be 81.46 F and cloudy in Miami.\n",
      "On this hour, it will be 83 F and cloudy in Miami.\n",
      "On this hour, it will be 86.6 F and cloudy in Miami.\n",
      "On this hour, it will be 88.59 F and cloudy in Miami.\n",
      "On this hour, it will be 87.58 F and cloudy in Miami.\n",
      "On this hour, it will be 86.3 F and cloudy in Miami.\n",
      "On this hour, it will be 84.66 F and cloudy in Miami.\n",
      "On this hour, it will be 83.38 F in Miami.\n",
      "On this hour, it will be 82.61 F in Miami.\n",
      "On this hour, it will be 81.78 F in Miami.\n",
      "On this hour, it will be 81.14 F in Miami.\n",
      "On this hour, it will be 80.4 F in Miami.\n",
      "On this hour, it will be 79.89 F in Miami.\n",
      "On this hour, it will be 79.22 F in Miami.\n",
      "On this hour, it will be 79.33 F in Miami.\n",
      "On this hour, it will be 79.2 F in Miami.\n",
      "On this hour, it will be 79.84 F and cloudy in Miami.\n",
      "On this hour, it will be 80.68 F and cloudy in Miami.\n",
      "On this hour, it will be 82.1 F and cloudy in Miami.\n",
      "On this hour, it will be 84.11 F and cloudy in Miami.\n",
      "On this hour, it will be 86.09 F and cloudy in Miami.\n",
      "On this hour, it will be 87.48 F and cloudy in Miami.\n",
      "On this hour, it will be 88.47 F and cloudy in Miami.\n",
      "On this hour, it will be 89.52 F and cloudy in Miami.\n",
      "On this hour, it will be 90.14 F and cloudy in Miami.\n",
      "On this hour, it will be 90.7 F and cloudy in Miami.\n",
      "On this hour, it will be 90.11 F and cloudy in Miami.\n",
      "On this hour, it will be 89.2 F and cloudy in Miami.\n",
      "On this hour, it will be 87.73 F in Miami.\n",
      "On this hour, it will be 86.38 F in Miami.\n",
      "On this hour, it will be 85.09 F in Miami.\n",
      "On this hour, it will be 84.34 F in Miami.\n",
      "On this hour, it will be 83.69 F and cloudy in Miami.\n",
      "On this hour, it will be 82.89 F and cloudy in Miami.\n",
      "On this hour, it will be 82.24 F and cloudy in Miami.\n",
      "On this hour, it will be 81.6 F in Miami.\n",
      "On this hour, it will be 81.12 F in Miami.\n",
      "On this hour, it will be 80.5 F in Miami.\n",
      "On this hour, it will be 79.91 F and cloudy in Miami.\n",
      "On this hour, it will be 79.86 F and cloudy in Miami.\n",
      "On this hour, it will be 80.47 F and cloudy in Miami.\n",
      "On this hour, it will be 81.44 F and cloudy in Miami.\n",
      "On this hour, it will be 82.99 F and cloudy in Miami.\n",
      "On this hour, it will be 85.04 F in Miami.\n",
      "On this hour, it will be 86.87 F in Miami.\n",
      "On this hour, it will be 88.28 F in Miami.\n",
      "On this hour, it will be 89.2 F in Miami.\n",
      "On this hour, it will be 90.42 F in Miami.\n",
      "On this hour, it will be 90.97 F in Miami.\n"
     ]
    }
   ],
   "source": [
    "for miami in miami_perhour:\n",
    "    if miami['cloudCover'] > 0.5:\n",
    "        print(\"On this hour, it will be\", miami['temperature'],\"F and cloudy in Miami.\")\n",
    "    else:\n",
    "        print(\"On this hour, it will be\", miami['temperature'],\"F in Miami.\")"
   ]
  },
  {
   "cell_type": "markdown",
   "metadata": {},
   "source": [
    "# 8) For the next 24-ish hours in Miami, what percent of the time is the temperature above 85 degrees?\n",
    "\n",
    "If they give you 48 hours instead of 24, that's okay.\n",
    "\n",
    "- *Tip: You might want to read up on [looping patterns](http://jonathansoma.com/lede/foundations-2017/classes/data%20structures/looping-patterns/)*"
   ]
  },
  {
   "cell_type": "code",
   "execution_count": 35,
   "metadata": {},
   "outputs": [
    {
     "name": "stdout",
     "output_type": "stream",
     "text": [
      "For the next 48 hours, the temperature in Miami will be above 85F 42.857142857142854 % of the time.\n"
     ]
    }
   ],
   "source": [
    "total_hours = 0\n",
    "for miami in miami_perhour:\n",
    "    total_hours = total_hours + 1\n",
    "above_temp = 0\n",
    "for miami in miami_perhour:\n",
    "    if miami['temperature'] > 85:\n",
    "        above_temp = above_temp +1\n",
    "above_85 = (above_temp *100)/total_hours\n",
    "print(\"For the next 48 hours, the temperature in Miami will be above 85F\", above_85, \"% of the time.\")           "
   ]
  },
  {
   "cell_type": "markdown",
   "metadata": {},
   "source": [
    "## 9) What was the temperature in Central Park on Christmas Day, 2012? How about 2007? 2005? How far back does the API allow you to go?\n",
    "\n",
    "- *Tip: You'll need to use UNIX time, which is the number of seconds since January 1, 1970. Google can help you convert a normal date!*\n",
    "- *Tip: You'll want to use Forecast.io's \"time machine\" API, [documentation here](https://darksky.net/dev/docs/time-machine)*"
   ]
  },
  {
   "cell_type": "code",
   "execution_count": 36,
   "metadata": {},
   "outputs": [],
   "source": [
    "import requests\n",
    "response = requests.get(f'https://api.darksky.net/forecast/{DARK_SKY_KEY}/40.7,%20-73,1356393600')\n",
    "christmas_eve_12 = response.json()"
   ]
  },
  {
   "cell_type": "code",
   "execution_count": 37,
   "metadata": {},
   "outputs": [
    {
     "name": "stdout",
     "output_type": "stream",
     "text": [
      "On Christmas Day 2012, it was 35.43 F in Central Park.\n"
     ]
    }
   ],
   "source": [
    "on2012 = christmas_eve_12['currently']\n",
    "print(\"On Christmas Day 2012, it was\", on2012['temperature'], \"F in Central Park.\")"
   ]
  },
  {
   "cell_type": "code",
   "execution_count": 38,
   "metadata": {},
   "outputs": [],
   "source": [
    "import requests\n",
    "response = requests.get(f'https://api.darksky.net/forecast/{DARK_SKY_KEY}/40.7,%20-73,1198540800')\n",
    "christmas_eve_07 = response.json()"
   ]
  },
  {
   "cell_type": "code",
   "execution_count": 39,
   "metadata": {},
   "outputs": [
    {
     "name": "stdout",
     "output_type": "stream",
     "text": [
      "On Christmas Day 2007, it was 40.34 F in Central Park.\n"
     ]
    }
   ],
   "source": [
    "on2007 = christmas_eve_07['currently']\n",
    "print(\"On Christmas Day 2007, it was\", on2007['temperature'], \"F in Central Park.\")"
   ]
  },
  {
   "cell_type": "code",
   "execution_count": 42,
   "metadata": {},
   "outputs": [],
   "source": [
    "import requests\n",
    "response = requests.get(f'https://api.darksky.net/forecast/{DARK_SKY_KEY}/40.7,%20-73,1135468800')\n",
    "christmas_eve_05 = response.json()"
   ]
  },
  {
   "cell_type": "code",
   "execution_count": 43,
   "metadata": {},
   "outputs": [
    {
     "name": "stdout",
     "output_type": "stream",
     "text": [
      "On Christmas Day 2005, it was 38.87 F in Central Park.\n"
     ]
    }
   ],
   "source": [
    "on2005 = christmas_eve_05['currently']\n",
    "print(\"On Christmas Day 2005, it was\", on2005['temperature'], \"F in Central Park.\")"
   ]
  }
 ],
 "metadata": {
  "kernelspec": {
   "display_name": "Python 3",
   "language": "python",
   "name": "python3"
  },
  "language_info": {
   "codemirror_mode": {
    "name": "ipython",
    "version": 3
   },
   "file_extension": ".py",
   "mimetype": "text/x-python",
   "name": "python",
   "nbconvert_exporter": "python",
   "pygments_lexer": "ipython3",
   "version": "3.7.1"
  }
 },
 "nbformat": 4,
 "nbformat_minor": 1
}
