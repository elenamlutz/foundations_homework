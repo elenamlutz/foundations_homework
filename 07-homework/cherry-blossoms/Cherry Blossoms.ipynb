{
 "cells": [
  {
   "cell_type": "markdown",
   "metadata": {},
   "source": [
    "# Cherry Blossoms!\n",
    "\n",
    "If we travel back in time a few months, [cherry blossoms](https://en.wikipedia.org/wiki/Cherry_blossom) were in full bloom! We don't live in Japan or DC, but we do have our fair share of the trees - buuut you sadly missed [Brooklyn Botanic Garden's annual festival](https://www.bbg.org/visit/event/sakura_matsuri_2019).\n",
    "\n",
    "We'll have to make up for it with data-driven cherry blossoms instead. Once upon a time [Data is Plural](https://tinyletter.com/data-is-plural) linked to [a dataset](http://atmenv.envi.osakafu-u.ac.jp/aono/kyophenotemp4/) about when the cherry trees blossom each year. It's a little out of date, but it's quirky in a real nice way so we're sticking with it.\n",
    "\n",
    "## 0. Do all of your importing/setup stuff"
   ]
  },
  {
   "cell_type": "code",
   "execution_count": 32,
   "metadata": {},
   "outputs": [],
   "source": [
    "import pandas as pd\n",
    "\n",
    "%matplotlib inline"
   ]
  },
  {
   "cell_type": "markdown",
   "metadata": {},
   "source": [
    "## 1. Read in the file using pandas, and look at the first five rows"
   ]
  },
  {
   "cell_type": "code",
   "execution_count": 33,
   "metadata": {},
   "outputs": [
    {
     "name": "stdout",
     "output_type": "stream",
     "text": [
      "Cherry Blossoms.ipynb KyotoFullFlower7.xls\r\n"
     ]
    }
   ],
   "source": [
    "!ls"
   ]
  },
  {
   "cell_type": "code",
   "execution_count": 34,
   "metadata": {},
   "outputs": [
    {
     "data": {
      "text/html": [
       "<div>\n",
       "<style scoped>\n",
       "    .dataframe tbody tr th:only-of-type {\n",
       "        vertical-align: middle;\n",
       "    }\n",
       "\n",
       "    .dataframe tbody tr th {\n",
       "        vertical-align: top;\n",
       "    }\n",
       "\n",
       "    .dataframe thead th {\n",
       "        text-align: right;\n",
       "    }\n",
       "</style>\n",
       "<table border=\"1\" class=\"dataframe\">\n",
       "  <thead>\n",
       "    <tr style=\"text-align: right;\">\n",
       "      <th></th>\n",
       "      <th>Full-flowering dates of Japanese cherry (Prunus jamasakura) at Kyoto, Japan. (Latest version, Jun. 12, 2012)</th>\n",
       "      <th>Unnamed: 1</th>\n",
       "      <th>Unnamed: 2</th>\n",
       "      <th>Unnamed: 3</th>\n",
       "      <th>Unnamed: 4</th>\n",
       "      <th>Unnamed: 5</th>\n",
       "    </tr>\n",
       "  </thead>\n",
       "  <tbody>\n",
       "    <tr>\n",
       "      <th>0</th>\n",
       "      <td>This phenological data was acquired by followi...</td>\n",
       "      <td>NaN</td>\n",
       "      <td>NaN</td>\n",
       "      <td>NaN</td>\n",
       "      <td>NaN</td>\n",
       "      <td>NaN</td>\n",
       "    </tr>\n",
       "    <tr>\n",
       "      <th>1</th>\n",
       "      <td>NaN</td>\n",
       "      <td>NaN</td>\n",
       "      <td>NaN</td>\n",
       "      <td>NaN</td>\n",
       "      <td>NaN</td>\n",
       "      <td>NaN</td>\n",
       "    </tr>\n",
       "    <tr>\n",
       "      <th>2</th>\n",
       "      <td>Column A; A.D.</td>\n",
       "      <td>NaN</td>\n",
       "      <td>NaN</td>\n",
       "      <td>NaN</td>\n",
       "      <td>NaN</td>\n",
       "      <td>NaN</td>\n",
       "    </tr>\n",
       "    <tr>\n",
       "      <th>3</th>\n",
       "      <td>Column B; Full-flowering date (day of year).</td>\n",
       "      <td>NaN</td>\n",
       "      <td>NaN</td>\n",
       "      <td>NaN</td>\n",
       "      <td>NaN</td>\n",
       "      <td>NaN</td>\n",
       "    </tr>\n",
       "    <tr>\n",
       "      <th>4</th>\n",
       "      <td>Column C; Full-flowering date (calender date, ...</td>\n",
       "      <td>NaN</td>\n",
       "      <td>NaN</td>\n",
       "      <td>NaN</td>\n",
       "      <td>NaN</td>\n",
       "      <td>NaN</td>\n",
       "    </tr>\n",
       "  </tbody>\n",
       "</table>\n",
       "</div>"
      ],
      "text/plain": [
       "  Full-flowering dates of Japanese cherry (Prunus jamasakura) at Kyoto, Japan. (Latest version, Jun. 12, 2012)  \\\n",
       "0  This phenological data was acquired by followi...                                                             \n",
       "1                                                NaN                                                             \n",
       "2                                     Column A; A.D.                                                             \n",
       "3       Column B; Full-flowering date (day of year).                                                             \n",
       "4  Column C; Full-flowering date (calender date, ...                                                             \n",
       "\n",
       "  Unnamed: 1 Unnamed: 2 Unnamed: 3 Unnamed: 4 Unnamed: 5  \n",
       "0        NaN        NaN        NaN        NaN        NaN  \n",
       "1        NaN        NaN        NaN        NaN        NaN  \n",
       "2        NaN        NaN        NaN        NaN        NaN  \n",
       "3        NaN        NaN        NaN        NaN        NaN  \n",
       "4        NaN        NaN        NaN        NaN        NaN  "
      ]
     },
     "execution_count": 34,
     "metadata": {},
     "output_type": "execute_result"
    }
   ],
   "source": [
    "df = pd.read_excel(\"KyotoFullFlower7.xls\", encoding='latin-1')\n",
    "df.head()"
   ]
  },
  {
   "cell_type": "markdown",
   "metadata": {},
   "source": [
    "## 2. Read in the file using pandas CORRECTLY, and look at the first five rows\n",
    "\n",
    "Hrm, how do your column names look? Read the file in again but this time add a parameter to make sure your columns look right.\n",
    "\n",
    "**TIP: The first year should be 801 AD, and it should not have any dates or anything.**"
   ]
  },
  {
   "cell_type": "code",
   "execution_count": 35,
   "metadata": {},
   "outputs": [
    {
     "data": {
      "text/html": [
       "<div>\n",
       "<style scoped>\n",
       "    .dataframe tbody tr th:only-of-type {\n",
       "        vertical-align: middle;\n",
       "    }\n",
       "\n",
       "    .dataframe tbody tr th {\n",
       "        vertical-align: top;\n",
       "    }\n",
       "\n",
       "    .dataframe thead th {\n",
       "        text-align: right;\n",
       "    }\n",
       "</style>\n",
       "<table border=\"1\" class=\"dataframe\">\n",
       "  <thead>\n",
       "    <tr style=\"text-align: right;\">\n",
       "      <th></th>\n",
       "      <th>AD</th>\n",
       "      <th>Full-flowering date (DOY)</th>\n",
       "      <th>Full-flowering date</th>\n",
       "      <th>Source code</th>\n",
       "      <th>Data type code</th>\n",
       "      <th>Reference Name</th>\n",
       "    </tr>\n",
       "  </thead>\n",
       "  <tbody>\n",
       "    <tr>\n",
       "      <th>0</th>\n",
       "      <td>801</td>\n",
       "      <td>NaN</td>\n",
       "      <td>NaN</td>\n",
       "      <td>NaN</td>\n",
       "      <td>NaN</td>\n",
       "      <td>-</td>\n",
       "    </tr>\n",
       "    <tr>\n",
       "      <th>1</th>\n",
       "      <td>802</td>\n",
       "      <td>NaN</td>\n",
       "      <td>NaN</td>\n",
       "      <td>NaN</td>\n",
       "      <td>NaN</td>\n",
       "      <td>-</td>\n",
       "    </tr>\n",
       "    <tr>\n",
       "      <th>2</th>\n",
       "      <td>803</td>\n",
       "      <td>NaN</td>\n",
       "      <td>NaN</td>\n",
       "      <td>NaN</td>\n",
       "      <td>NaN</td>\n",
       "      <td>-</td>\n",
       "    </tr>\n",
       "    <tr>\n",
       "      <th>3</th>\n",
       "      <td>804</td>\n",
       "      <td>NaN</td>\n",
       "      <td>NaN</td>\n",
       "      <td>NaN</td>\n",
       "      <td>NaN</td>\n",
       "      <td>-</td>\n",
       "    </tr>\n",
       "    <tr>\n",
       "      <th>4</th>\n",
       "      <td>805</td>\n",
       "      <td>NaN</td>\n",
       "      <td>NaN</td>\n",
       "      <td>NaN</td>\n",
       "      <td>NaN</td>\n",
       "      <td>-</td>\n",
       "    </tr>\n",
       "  </tbody>\n",
       "</table>\n",
       "</div>"
      ],
      "text/plain": [
       "    AD  Full-flowering date (DOY)  Full-flowering date  Source code  \\\n",
       "0  801                        NaN                  NaN          NaN   \n",
       "1  802                        NaN                  NaN          NaN   \n",
       "2  803                        NaN                  NaN          NaN   \n",
       "3  804                        NaN                  NaN          NaN   \n",
       "4  805                        NaN                  NaN          NaN   \n",
       "\n",
       "   Data type code Reference Name  \n",
       "0             NaN              -  \n",
       "1             NaN              -  \n",
       "2             NaN              -  \n",
       "3             NaN              -  \n",
       "4             NaN              -  "
      ]
     },
     "execution_count": 35,
     "metadata": {},
     "output_type": "execute_result"
    }
   ],
   "source": [
    "df = pd.read_excel(\"KyotoFullFlower7.xls\", encoding='latin-1', skiprows=25)\n",
    "df.head()"
   ]
  },
  {
   "cell_type": "markdown",
   "metadata": {},
   "source": [
    "## 3. Look at the final five rows of the data"
   ]
  },
  {
   "cell_type": "code",
   "execution_count": 36,
   "metadata": {},
   "outputs": [
    {
     "data": {
      "text/html": [
       "<div>\n",
       "<style scoped>\n",
       "    .dataframe tbody tr th:only-of-type {\n",
       "        vertical-align: middle;\n",
       "    }\n",
       "\n",
       "    .dataframe tbody tr th {\n",
       "        vertical-align: top;\n",
       "    }\n",
       "\n",
       "    .dataframe thead th {\n",
       "        text-align: right;\n",
       "    }\n",
       "</style>\n",
       "<table border=\"1\" class=\"dataframe\">\n",
       "  <thead>\n",
       "    <tr style=\"text-align: right;\">\n",
       "      <th></th>\n",
       "      <th>AD</th>\n",
       "      <th>Full-flowering date (DOY)</th>\n",
       "      <th>Full-flowering date</th>\n",
       "      <th>Source code</th>\n",
       "      <th>Data type code</th>\n",
       "      <th>Reference Name</th>\n",
       "    </tr>\n",
       "  </thead>\n",
       "  <tbody>\n",
       "    <tr>\n",
       "      <th>1210</th>\n",
       "      <td>2011</td>\n",
       "      <td>99.0</td>\n",
       "      <td>409.0</td>\n",
       "      <td>8.0</td>\n",
       "      <td>0.0</td>\n",
       "      <td>NEWS-PAPER(ARASHIYAMA)</td>\n",
       "    </tr>\n",
       "    <tr>\n",
       "      <th>1211</th>\n",
       "      <td>2012</td>\n",
       "      <td>101.0</td>\n",
       "      <td>410.0</td>\n",
       "      <td>8.0</td>\n",
       "      <td>0.0</td>\n",
       "      <td>NEWS-PAPER(ARASHIYAMA)</td>\n",
       "    </tr>\n",
       "    <tr>\n",
       "      <th>1212</th>\n",
       "      <td>2013</td>\n",
       "      <td>93.0</td>\n",
       "      <td>403.0</td>\n",
       "      <td>8.0</td>\n",
       "      <td>0.0</td>\n",
       "      <td>NEWS-PAPER(ARASHIYAMA)</td>\n",
       "    </tr>\n",
       "    <tr>\n",
       "      <th>1213</th>\n",
       "      <td>2014</td>\n",
       "      <td>94.0</td>\n",
       "      <td>404.0</td>\n",
       "      <td>8.0</td>\n",
       "      <td>0.0</td>\n",
       "      <td>NEWS-PAPER(ARASHIYAMA)</td>\n",
       "    </tr>\n",
       "    <tr>\n",
       "      <th>1214</th>\n",
       "      <td>2015</td>\n",
       "      <td>93.0</td>\n",
       "      <td>403.0</td>\n",
       "      <td>8.0</td>\n",
       "      <td>0.0</td>\n",
       "      <td>NEWS-PAPER(ARASHIYAMA)</td>\n",
       "    </tr>\n",
       "  </tbody>\n",
       "</table>\n",
       "</div>"
      ],
      "text/plain": [
       "        AD  Full-flowering date (DOY)  Full-flowering date  Source code  \\\n",
       "1210  2011                       99.0                409.0          8.0   \n",
       "1211  2012                      101.0                410.0          8.0   \n",
       "1212  2013                       93.0                403.0          8.0   \n",
       "1213  2014                       94.0                404.0          8.0   \n",
       "1214  2015                       93.0                403.0          8.0   \n",
       "\n",
       "      Data type code          Reference Name  \n",
       "1210             0.0  NEWS-PAPER(ARASHIYAMA)  \n",
       "1211             0.0  NEWS-PAPER(ARASHIYAMA)  \n",
       "1212             0.0  NEWS-PAPER(ARASHIYAMA)  \n",
       "1213             0.0  NEWS-PAPER(ARASHIYAMA)  \n",
       "1214             0.0  NEWS-PAPER(ARASHIYAMA)  "
      ]
     },
     "execution_count": 36,
     "metadata": {},
     "output_type": "execute_result"
    }
   ],
   "source": [
    "df.tail()"
   ]
  },
  {
   "cell_type": "markdown",
   "metadata": {},
   "source": [
    "## 4. Add some more NaN values"
   ]
  },
  {
   "cell_type": "markdown",
   "metadata": {},
   "source": [
    "It looks like you should probably have some NaN/missing values earlier on in the dataset under \"Reference name.\" Read in the file *one more time*, this time making sure all of those missing reference names actually show up as `NaN` instead of `-`."
   ]
  },
  {
   "cell_type": "code",
   "execution_count": 37,
   "metadata": {},
   "outputs": [],
   "source": [
    "df = pd.read_excel(\"KyotoFullFlower7.xls\", encoding='latin-1', skiprows=25, na_values=['-', 'NaN'])\n"
   ]
  },
  {
   "cell_type": "code",
   "execution_count": 38,
   "metadata": {},
   "outputs": [
    {
     "data": {
      "text/html": [
       "<div>\n",
       "<style scoped>\n",
       "    .dataframe tbody tr th:only-of-type {\n",
       "        vertical-align: middle;\n",
       "    }\n",
       "\n",
       "    .dataframe tbody tr th {\n",
       "        vertical-align: top;\n",
       "    }\n",
       "\n",
       "    .dataframe thead th {\n",
       "        text-align: right;\n",
       "    }\n",
       "</style>\n",
       "<table border=\"1\" class=\"dataframe\">\n",
       "  <thead>\n",
       "    <tr style=\"text-align: right;\">\n",
       "      <th></th>\n",
       "      <th>AD</th>\n",
       "      <th>Full_flowering_date_DOY</th>\n",
       "      <th>Full_flowering_date</th>\n",
       "      <th>Source_code</th>\n",
       "      <th>Data_type_code</th>\n",
       "      <th>Reference_Name</th>\n",
       "    </tr>\n",
       "  </thead>\n",
       "  <tbody>\n",
       "    <tr>\n",
       "      <th>1210</th>\n",
       "      <td>2011</td>\n",
       "      <td>99.0</td>\n",
       "      <td>409.0</td>\n",
       "      <td>8.0</td>\n",
       "      <td>0.0</td>\n",
       "      <td>NEWS-PAPER(ARASHIYAMA)</td>\n",
       "    </tr>\n",
       "    <tr>\n",
       "      <th>1211</th>\n",
       "      <td>2012</td>\n",
       "      <td>101.0</td>\n",
       "      <td>410.0</td>\n",
       "      <td>8.0</td>\n",
       "      <td>0.0</td>\n",
       "      <td>NEWS-PAPER(ARASHIYAMA)</td>\n",
       "    </tr>\n",
       "    <tr>\n",
       "      <th>1212</th>\n",
       "      <td>2013</td>\n",
       "      <td>93.0</td>\n",
       "      <td>403.0</td>\n",
       "      <td>8.0</td>\n",
       "      <td>0.0</td>\n",
       "      <td>NEWS-PAPER(ARASHIYAMA)</td>\n",
       "    </tr>\n",
       "    <tr>\n",
       "      <th>1213</th>\n",
       "      <td>2014</td>\n",
       "      <td>94.0</td>\n",
       "      <td>404.0</td>\n",
       "      <td>8.0</td>\n",
       "      <td>0.0</td>\n",
       "      <td>NEWS-PAPER(ARASHIYAMA)</td>\n",
       "    </tr>\n",
       "    <tr>\n",
       "      <th>1214</th>\n",
       "      <td>2015</td>\n",
       "      <td>93.0</td>\n",
       "      <td>403.0</td>\n",
       "      <td>8.0</td>\n",
       "      <td>0.0</td>\n",
       "      <td>NEWS-PAPER(ARASHIYAMA)</td>\n",
       "    </tr>\n",
       "  </tbody>\n",
       "</table>\n",
       "</div>"
      ],
      "text/plain": [
       "        AD  Full_flowering_date_DOY  Full_flowering_date  Source_code  \\\n",
       "1210  2011                     99.0                409.0          8.0   \n",
       "1211  2012                    101.0                410.0          8.0   \n",
       "1212  2013                     93.0                403.0          8.0   \n",
       "1213  2014                     94.0                404.0          8.0   \n",
       "1214  2015                     93.0                403.0          8.0   \n",
       "\n",
       "      Data_type_code          Reference_Name  \n",
       "1210             0.0  NEWS-PAPER(ARASHIYAMA)  \n",
       "1211             0.0  NEWS-PAPER(ARASHIYAMA)  \n",
       "1212             0.0  NEWS-PAPER(ARASHIYAMA)  \n",
       "1213             0.0  NEWS-PAPER(ARASHIYAMA)  \n",
       "1214             0.0  NEWS-PAPER(ARASHIYAMA)  "
      ]
     },
     "execution_count": 38,
     "metadata": {},
     "output_type": "execute_result"
    }
   ],
   "source": [
    "df = df.rename(columns={\n",
    "    'Full-flowering date (DOY)': 'Full_flowering_date_DOY',\n",
    "    'Full-flowering date': 'Full_flowering_date',\n",
    "    'Source code': 'Source_code',\n",
    "    'Data type code': 'Data_type_code',\n",
    "    'Reference Name': 'Reference_Name'\n",
    "})\n",
    "df.tail()"
   ]
  },
  {
   "cell_type": "code",
   "execution_count": null,
   "metadata": {},
   "outputs": [],
   "source": []
  },
  {
   "cell_type": "markdown",
   "metadata": {},
   "source": [
    "## 4. What source is the most common as a reference?"
   ]
  },
  {
   "cell_type": "code",
   "execution_count": 39,
   "metadata": {},
   "outputs": [
    {
     "data": {
      "text/plain": [
       "Reference_Name          Source_code\n",
       "NEWS-PAPER(ARASHIYAMA)  4.0            44\n",
       "                        3.0            40\n",
       "SUGIURAKE-NIKKI         3.0            35\n",
       "DAIGOJI-ZATSUYO         4.0            21\n",
       "OYUDONONO-UENO-NIKKI    3.0            19\n",
       "Name: Source_code, dtype: int64"
      ]
     },
     "execution_count": 39,
     "metadata": {},
     "output_type": "execute_result"
    }
   ],
   "source": [
    "df.groupby(by='Reference_Name').Source_code.value_counts().sort_values(ascending=False).head()"
   ]
  },
  {
   "cell_type": "markdown",
   "metadata": {},
   "source": [
    "## 6. Filter the list to only include columns where the `Full-flowering date (DOY)` is not missing\n",
    "\n",
    "If you'd like to do it in two steps (which might be easier to think through), first figure out how to test whether a column is empty/missing/null/NaN, get the list of `True`/`False` values, and then later feed it to your `df`."
   ]
  },
  {
   "cell_type": "code",
   "execution_count": 40,
   "metadata": {},
   "outputs": [
    {
     "data": {
      "text/plain": [
       "0        True\n",
       "1        True\n",
       "2        True\n",
       "3        True\n",
       "4        True\n",
       "5        True\n",
       "6        True\n",
       "7        True\n",
       "8        True\n",
       "9        True\n",
       "10       True\n",
       "11      False\n",
       "12       True\n",
       "13       True\n",
       "14      False\n",
       "15       True\n",
       "16       True\n",
       "17       True\n",
       "18       True\n",
       "19       True\n",
       "20       True\n",
       "21       True\n",
       "22       True\n",
       "23       True\n",
       "24       True\n",
       "25       True\n",
       "26       True\n",
       "27       True\n",
       "28       True\n",
       "29       True\n",
       "        ...  \n",
       "1185    False\n",
       "1186    False\n",
       "1187    False\n",
       "1188    False\n",
       "1189    False\n",
       "1190    False\n",
       "1191    False\n",
       "1192    False\n",
       "1193    False\n",
       "1194    False\n",
       "1195    False\n",
       "1196    False\n",
       "1197    False\n",
       "1198    False\n",
       "1199    False\n",
       "1200    False\n",
       "1201    False\n",
       "1202    False\n",
       "1203    False\n",
       "1204    False\n",
       "1205    False\n",
       "1206    False\n",
       "1207    False\n",
       "1208    False\n",
       "1209    False\n",
       "1210    False\n",
       "1211    False\n",
       "1212    False\n",
       "1213    False\n",
       "1214    False\n",
       "Name: Full_flowering_date_DOY, Length: 1215, dtype: bool"
      ]
     },
     "execution_count": 40,
     "metadata": {},
     "output_type": "execute_result"
    }
   ],
   "source": [
    "df.Full_flowering_date_DOY.isna()"
   ]
  },
  {
   "cell_type": "code",
   "execution_count": 41,
   "metadata": {},
   "outputs": [
    {
     "data": {
      "text/plain": [
       "11       92.0\n",
       "14      105.0\n",
       "30       96.0\n",
       "50      108.0\n",
       "52      104.0\n",
       "63      100.0\n",
       "65      106.0\n",
       "68       95.0\n",
       "88      104.0\n",
       "90      109.0\n",
       "91      108.0\n",
       "93      106.0\n",
       "94      104.0\n",
       "95      104.0\n",
       "101     102.0\n",
       "107      98.0\n",
       "111      95.0\n",
       "112     110.0\n",
       "116      95.0\n",
       "122     104.0\n",
       "125      98.0\n",
       "129      97.0\n",
       "132     106.0\n",
       "140     109.0\n",
       "148     107.0\n",
       "149      95.0\n",
       "154      89.0\n",
       "156     112.0\n",
       "157     109.0\n",
       "158      97.0\n",
       "        ...  \n",
       "1185    102.0\n",
       "1186     95.0\n",
       "1187    106.0\n",
       "1188     93.0\n",
       "1189     88.0\n",
       "1190     97.0\n",
       "1191     94.0\n",
       "1192     97.0\n",
       "1193     99.0\n",
       "1194     99.0\n",
       "1195    103.0\n",
       "1196     97.0\n",
       "1197     91.0\n",
       "1198     94.0\n",
       "1199    100.0\n",
       "1200     96.0\n",
       "1201     91.0\n",
       "1202     98.0\n",
       "1203     92.0\n",
       "1204     99.0\n",
       "1205     98.0\n",
       "1206     97.0\n",
       "1207     95.0\n",
       "1208     95.0\n",
       "1209     95.0\n",
       "1210     99.0\n",
       "1211    101.0\n",
       "1212     93.0\n",
       "1213     94.0\n",
       "1214     93.0\n",
       "Name: Full_flowering_date_DOY, Length: 827, dtype: float64"
      ]
     },
     "execution_count": 41,
     "metadata": {},
     "output_type": "execute_result"
    }
   ],
   "source": [
    "df.Full_flowering_date_DOY.dropna()"
   ]
  },
  {
   "cell_type": "markdown",
   "metadata": {},
   "source": [
    "## 7. Make a histogram of the full-flowering date\n",
    "\n",
    "Is it not showing up? Remember the \"magic\" command that makes graphs show up in matplotlib notebooks!"
   ]
  },
  {
   "cell_type": "code",
   "execution_count": 42,
   "metadata": {},
   "outputs": [
    {
     "data": {
      "text/plain": [
       "<matplotlib.axes._subplots.AxesSubplot at 0x11c023a20>"
      ]
     },
     "execution_count": 42,
     "metadata": {},
     "output_type": "execute_result"
    },
    {
     "data": {
      "image/png": "[encoded data removed]",
      "text/plain": [
       "<Figure size 432x288 with 1 Axes>"
      ]
     },
     "metadata": {
      "needs_background": "light"
     },
     "output_type": "display_data"
    }
   ],
   "source": [
    "df.Full_flowering_date_DOY.hist()"
   ]
  },
  {
   "cell_type": "markdown",
   "metadata": {},
   "source": [
    "## 8. Make another histogram of the full-flowering date, but with 39 bins instead of 10"
   ]
  },
  {
   "cell_type": "code",
   "execution_count": 43,
   "metadata": {},
   "outputs": [
    {
     "data": {
      "text/plain": [
       "<matplotlib.axes._subplots.AxesSubplot at 0x11c023828>"
      ]
     },
     "execution_count": 43,
     "metadata": {},
     "output_type": "execute_result"
    },
    {
     "data": {
      "image/png": "[encoded data removed]",
      "text/plain": [
       "<Figure size 432x288 with 1 Axes>"
      ]
     },
     "metadata": {
      "needs_background": "light"
     },
     "output_type": "display_data"
    }
   ],
   "source": [
    "df.Full_flowering_date_DOY.hist(bins=39)"
   ]
  },
  {
   "cell_type": "markdown",
   "metadata": {},
   "source": [
    "## 9. What's the average number of days it takes for the flowers to blossom? And how many records do we have?\n",
    "\n",
    "Answer these both with one line of code."
   ]
  },
  {
   "cell_type": "code",
   "execution_count": 44,
   "metadata": {},
   "outputs": [
    {
     "data": {
      "text/plain": [
       "count    827.000000\n",
       "mean     413.717050\n",
       "std       12.381731\n",
       "min      327.000000\n",
       "25%      410.000000\n",
       "50%      414.000000\n",
       "75%      419.000000\n",
       "max      504.000000\n",
       "Name: Full_flowering_date, dtype: float64"
      ]
     },
     "execution_count": 44,
     "metadata": {},
     "output_type": "execute_result"
    }
   ],
   "source": [
    "df.Full_flowering_date.describe()"
   ]
  },
  {
   "cell_type": "markdown",
   "metadata": {},
   "source": [
    "## 10. What's the average days into the year cherry flowers normally blossomed before 1900?\n",
    "\n"
   ]
  },
  {
   "cell_type": "code",
   "execution_count": 45,
   "metadata": {},
   "outputs": [
    {
     "data": {
      "text/plain": [
       "105.2027972027972"
      ]
     },
     "execution_count": 45,
     "metadata": {},
     "output_type": "execute_result"
    }
   ],
   "source": [
    "df[(df.AD <= 1900)].Full_flowering_date_DOY.mean()"
   ]
  },
  {
   "cell_type": "markdown",
   "metadata": {},
   "source": [
    "## 11. How about after 1900?"
   ]
  },
  {
   "cell_type": "code",
   "execution_count": 46,
   "metadata": {},
   "outputs": [
    {
     "data": {
      "text/plain": [
       "100.32743362831859"
      ]
     },
     "execution_count": 46,
     "metadata": {},
     "output_type": "execute_result"
    }
   ],
   "source": [
    "df[(df.AD >= 1900)].Full_flowering_date_DOY.mean()"
   ]
  },
  {
   "cell_type": "markdown",
   "metadata": {},
   "source": [
    "## 12. How many times was our data from a title in Japanese poetry?\n",
    "\n",
    "You'll need to read the documentation inside of the Excel file."
   ]
  },
  {
   "cell_type": "code",
   "execution_count": 47,
   "metadata": {},
   "outputs": [
    {
     "data": {
      "text/plain": [
       "AD                         39\n",
       "Full_flowering_date_DOY    39\n",
       "Full_flowering_date        39\n",
       "Source_code                39\n",
       "Data_type_code             39\n",
       "Reference_Name             39\n",
       "dtype: int64"
      ]
     },
     "execution_count": 47,
     "metadata": {},
     "output_type": "execute_result"
    }
   ],
   "source": [
    "df[(df.Data_type_code == 4)].count()"
   ]
  },
  {
   "cell_type": "markdown",
   "metadata": {},
   "source": [
    "## 13. Show only the years where our data was from a title in Japanese poetry"
   ]
  },
  {
   "cell_type": "code",
   "execution_count": 48,
   "metadata": {},
   "outputs": [
    {
     "data": {
      "text/plain": [
       "90       891\n",
       "94       895\n",
       "95       896\n",
       "122      923\n",
       "154      955\n",
       "168      969\n",
       "206     1007\n",
       "232     1033\n",
       "235     1036\n",
       "259     1060\n",
       "260     1061\n",
       "283     1084\n",
       "294     1095\n",
       "381     1182\n",
       "389     1190\n",
       "400     1201\n",
       "415     1216\n",
       "418     1219\n",
       "420     1221\n",
       "422     1223\n",
       "435     1236\n",
       "464     1265\n",
       "467     1268\n",
       "468     1269\n",
       "470     1271\n",
       "488     1289\n",
       "500     1301\n",
       "523     1324\n",
       "529     1330\n",
       "646     1447\n",
       "652     1453\n",
       "653     1454\n",
       "673     1474\n",
       "733     1534\n",
       "791     1592\n",
       "839     1640\n",
       "860     1661\n",
       "1045    1846\n",
       "1062    1863\n",
       "Name: AD, dtype: int64"
      ]
     },
     "execution_count": 48,
     "metadata": {},
     "output_type": "execute_result"
    }
   ],
   "source": [
    "df[(df.Data_type_code == 4)].AD"
   ]
  },
  {
   "cell_type": "markdown",
   "metadata": {},
   "source": [
    "## 14. Graph the full-flowering date (DOY) over time"
   ]
  },
  {
   "cell_type": "code",
   "execution_count": 49,
   "metadata": {},
   "outputs": [
    {
     "data": {
      "text/plain": [
       "<matplotlib.axes._subplots.AxesSubplot at 0x11c248208>"
      ]
     },
     "execution_count": 49,
     "metadata": {},
     "output_type": "execute_result"
    },
    {
     "data": {
      "image/png": "[encoded data removed]",
      "text/plain": [
       "<Figure size 432x288 with 1 Axes>"
      ]
     },
     "metadata": {
      "needs_background": "light"
     },
     "output_type": "display_data"
    }
   ],
   "source": [
    "#df.groupby(by='Style').IBUs.median().sort_values(ascending=True).plot(x='Style', y='IBUs', kind='barh')\n",
    "df.Full_flowering_date_DOY.plot(x='AD', y='Full_flowering_date_DOY')\n"
   ]
  },
  {
   "cell_type": "markdown",
   "metadata": {},
   "source": [
    "## 15. Smooth out the graph\n",
    "\n",
    "It's so jagged! You can use `df.rolling` to calculate a rolling average.\n",
    "\n",
    "The following code calculates a **10-year mean**, using the `AD` column as the anchor. If there aren't 20 samples to work with in a row, it'll accept down to 5. Neat, right?\n",
    "\n",
    "(We're only looking at the final 5)"
   ]
  },
  {
   "cell_type": "code",
   "execution_count": 50,
   "metadata": {},
   "outputs": [
    {
     "data": {
      "text/plain": [
       "1210    95.9\n",
       "1211    96.9\n",
       "1212    96.4\n",
       "1213    96.6\n",
       "1214    96.0\n",
       "Name: Full_flowering_date_DOY, dtype: float64"
      ]
     },
     "execution_count": 50,
     "metadata": {},
     "output_type": "execute_result"
    }
   ],
   "source": [
    "df.rolling(10, on='AD', min_periods=5)['Full_flowering_date_DOY'].mean().tail()"
   ]
  },
  {
   "cell_type": "code",
   "execution_count": 51,
   "metadata": {},
   "outputs": [],
   "source": [
    "df['rolling_date'] = df.rolling(20, on='AD', min_periods=5)['Full_flowering_date_DOY'].mean()"
   ]
  },
  {
   "cell_type": "code",
   "execution_count": 52,
   "metadata": {},
   "outputs": [
    {
     "data": {
      "image/png": "[encoded data removed]",
      "text/plain": [
       "<Figure size 432x288 with 1 Axes>"
      ]
     },
     "metadata": {
      "needs_background": "light"
     },
     "output_type": "display_data"
    }
   ],
   "source": [
    "df['rolling_date'] = df.rolling(20, on='AD', min_periods=5)['Full_flowering_date_DOY'].mean().plot(ylim=(80, 120))"
   ]
  },
  {
   "cell_type": "markdown",
   "metadata": {},
   "source": [
    "Use the code above to create a new column called `rolling_date` in our dataset. It should be the 20-year rolling average of the flowering date. Then plot it, with the year on the x axis and the day of the year on the y axis.\n",
    "\n",
    "Try adding `ylim=(80, 120)` to your `.plot` command to make things look a little less dire."
   ]
  },
  {
   "cell_type": "markdown",
   "metadata": {},
   "source": [
    "### 16. Add a month column\n",
    "\n",
    "Right now the \"Full-flowering date\" column is pretty rough. It uses numbers like '402' to mean \"April 2nd\" and \"416\" to mean \"April 16th.\" Let's make a column to explain what month it happened in.\n",
    "\n",
    "* Every row that happened in April should have 'April' in the `month` column.\n",
    "* Every row that happened in March should have 'March' as the `month` column.\n",
    "* Every row that happened in May should have 'May' as the `month` column.\n",
    "\n",
    "**I've given you March as an example**, you just need to add in two more lines to do April and May."
   ]
  },
  {
   "cell_type": "code",
   "execution_count": 53,
   "metadata": {},
   "outputs": [],
   "source": [
    "df.loc[(df['Full_flowering_date'] < 400)&(df['Full_flowering_date'] > 300), 'month'] = 'March'"
   ]
  },
  {
   "cell_type": "code",
   "execution_count": 54,
   "metadata": {},
   "outputs": [],
   "source": [
    "df.loc[(df['Full_flowering_date'] < 500)&(df['Full_flowering_date'] > 400), 'month'] = 'April'"
   ]
  },
  {
   "cell_type": "code",
   "execution_count": 55,
   "metadata": {},
   "outputs": [],
   "source": [
    "df.loc[(df['Full_flowering_date'] < 600)&(df['Full_flowering_date'] > 500) , 'month'] = 'May'"
   ]
  },
  {
   "cell_type": "markdown",
   "metadata": {},
   "source": [
    "### 17. Using your new column, how many blossomings happened in each month?"
   ]
  },
  {
   "cell_type": "code",
   "execution_count": 56,
   "metadata": {},
   "outputs": [
    {
     "data": {
      "text/plain": [
       "April    814\n",
       "March     10\n",
       "May        3\n",
       "Name: month, dtype: int64"
      ]
     },
     "execution_count": 56,
     "metadata": {},
     "output_type": "execute_result"
    }
   ],
   "source": [
    "df.month.value_counts()"
   ]
  },
  {
   "cell_type": "markdown",
   "metadata": {},
   "source": [
    "### 18. Graph how many blossomings happened in each month."
   ]
  },
  {
   "cell_type": "code",
   "execution_count": 57,
   "metadata": {},
   "outputs": [
    {
     "data": {
      "text/plain": [
       "<matplotlib.axes._subplots.AxesSubplot at 0x11c3215f8>"
      ]
     },
     "execution_count": 57,
     "metadata": {},
     "output_type": "execute_result"
    },
    {
     "data": {
      "image/png": "[encoded data removed]",
      "text/plain": [
       "<Figure size 432x288 with 1 Axes>"
      ]
     },
     "metadata": {
      "needs_background": "light"
     },
     "output_type": "display_data"
    }
   ],
   "source": [
    "df.month.value_counts().plot(x='month', y='value_counts()', kind='barh')"
   ]
  },
  {
   "cell_type": "markdown",
   "metadata": {},
   "source": [
    "## 19. Adding a day-of-month column\n",
    "\n",
    "Now we're going to add a new column called \"day of month.\" It's actually a little tougher than it should be since the `Full-flowering date` column is a *float* instead of an integer."
   ]
  },
  {
   "cell_type": "code",
   "execution_count": null,
   "metadata": {},
   "outputs": [],
   "source": []
  },
  {
   "cell_type": "markdown",
   "metadata": {},
   "source": [
    "And if you try to convert it to an int, **pandas yells at you!**"
   ]
  },
  {
   "cell_type": "code",
   "execution_count": null,
   "metadata": {},
   "outputs": [],
   "source": []
  },
  {
   "cell_type": "markdown",
   "metadata": {},
   "source": [
    "That's because, as you can read, you can't have an `NaN` be an integer. But, for some reason, it *can* be a float. Ugh! So what we'll do is **drop all of the na values, then convert them to integers to get rid of the decimals.**\n",
    "\n",
    "I'll show you the first 5 here."
   ]
  },
  {
   "cell_type": "code",
   "execution_count": 58,
   "metadata": {},
   "outputs": [
    {
     "data": {
      "text/plain": [
       "11    401\n",
       "14    415\n",
       "30    406\n",
       "50    418\n",
       "52    414\n",
       "Name: Full_flowering_date, dtype: int64"
      ]
     },
     "execution_count": 58,
     "metadata": {},
     "output_type": "execute_result"
    }
   ],
   "source": [
    "df['Full_flowering_date'].dropna().astype(int).head()"
   ]
  },
  {
   "cell_type": "markdown",
   "metadata": {},
   "source": [
    "On the next line, I take the first character of the row and add a bunch of exclamation points on it. I want you to edit this code to **return the last TWO digits of the number**. This only shows you the first 5, by the way.\n",
    "\n",
    "You might want to look up 'list slicing.'"
   ]
  },
  {
   "cell_type": "code",
   "execution_count": 59,
   "metadata": {},
   "outputs": [
    {
     "data": {
      "text/plain": [
       "11      01\n",
       "14      15\n",
       "30      06\n",
       "50      18\n",
       "52      14\n",
       "63      09\n",
       "65      16\n",
       "68      05\n",
       "88      14\n",
       "90      19\n",
       "91      17\n",
       "93      16\n",
       "94      14\n",
       "95      13\n",
       "101     12\n",
       "107     07\n",
       "111     04\n",
       "112     20\n",
       "116     05\n",
       "122     14\n",
       "125     08\n",
       "129     07\n",
       "132     16\n",
       "140     19\n",
       "148     17\n",
       "149     05\n",
       "154     30\n",
       "156     22\n",
       "157     19\n",
       "158     07\n",
       "        ..\n",
       "1185    12\n",
       "1186    05\n",
       "1187    15\n",
       "1188    03\n",
       "1189    29\n",
       "1190    07\n",
       "1191    03\n",
       "1192    07\n",
       "1193    09\n",
       "1194    09\n",
       "1195    12\n",
       "1196    07\n",
       "1197    01\n",
       "1198    04\n",
       "1199    09\n",
       "1200    06\n",
       "1201    01\n",
       "1202    08\n",
       "1203    01\n",
       "1204    09\n",
       "1205    08\n",
       "1206    07\n",
       "1207    04\n",
       "1208    05\n",
       "1209    05\n",
       "1210    09\n",
       "1211    10\n",
       "1212    03\n",
       "1213    04\n",
       "1214    03\n",
       "Name: Full_flowering_date, Length: 827, dtype: object"
      ]
     },
     "execution_count": 59,
     "metadata": {},
     "output_type": "execute_result"
    }
   ],
   "source": [
    "df['Full_flowering_date'].dropna().astype(int).astype(str).apply(lambda value: value[-2:])"
   ]
  },
  {
   "cell_type": "markdown",
   "metadata": {},
   "source": [
    "Now that you've successfully extracted the last two letters, save them into a new column called `'day-of-month'`"
   ]
  },
  {
   "cell_type": "code",
   "execution_count": 60,
   "metadata": {},
   "outputs": [],
   "source": [
    "df['day_of_month'] = df['Full_flowering_date'].dropna().astype(int).astype(str).apply(lambda value: value[-2:])\n"
   ]
  },
  {
   "cell_type": "code",
   "execution_count": 61,
   "metadata": {},
   "outputs": [
    {
     "data": {
      "text/html": [
       "<div>\n",
       "<style scoped>\n",
       "    .dataframe tbody tr th:only-of-type {\n",
       "        vertical-align: middle;\n",
       "    }\n",
       "\n",
       "    .dataframe tbody tr th {\n",
       "        vertical-align: top;\n",
       "    }\n",
       "\n",
       "    .dataframe thead th {\n",
       "        text-align: right;\n",
       "    }\n",
       "</style>\n",
       "<table border=\"1\" class=\"dataframe\">\n",
       "  <thead>\n",
       "    <tr style=\"text-align: right;\">\n",
       "      <th></th>\n",
       "      <th>AD</th>\n",
       "      <th>Full_flowering_date_DOY</th>\n",
       "      <th>Full_flowering_date</th>\n",
       "      <th>Source_code</th>\n",
       "      <th>Data_type_code</th>\n",
       "      <th>Reference_Name</th>\n",
       "      <th>rolling_date</th>\n",
       "      <th>month</th>\n",
       "      <th>day_of_month</th>\n",
       "    </tr>\n",
       "  </thead>\n",
       "  <tbody>\n",
       "    <tr>\n",
       "      <th>1210</th>\n",
       "      <td>2011</td>\n",
       "      <td>99.0</td>\n",
       "      <td>409.0</td>\n",
       "      <td>8.0</td>\n",
       "      <td>0.0</td>\n",
       "      <td>NEWS-PAPER(ARASHIYAMA)</td>\n",
       "      <td>AxesSubplot(0.125,0.125;0.775x0.755)</td>\n",
       "      <td>April</td>\n",
       "      <td>09</td>\n",
       "    </tr>\n",
       "    <tr>\n",
       "      <th>1211</th>\n",
       "      <td>2012</td>\n",
       "      <td>101.0</td>\n",
       "      <td>410.0</td>\n",
       "      <td>8.0</td>\n",
       "      <td>0.0</td>\n",
       "      <td>NEWS-PAPER(ARASHIYAMA)</td>\n",
       "      <td>AxesSubplot(0.125,0.125;0.775x0.755)</td>\n",
       "      <td>April</td>\n",
       "      <td>10</td>\n",
       "    </tr>\n",
       "    <tr>\n",
       "      <th>1212</th>\n",
       "      <td>2013</td>\n",
       "      <td>93.0</td>\n",
       "      <td>403.0</td>\n",
       "      <td>8.0</td>\n",
       "      <td>0.0</td>\n",
       "      <td>NEWS-PAPER(ARASHIYAMA)</td>\n",
       "      <td>AxesSubplot(0.125,0.125;0.775x0.755)</td>\n",
       "      <td>April</td>\n",
       "      <td>03</td>\n",
       "    </tr>\n",
       "    <tr>\n",
       "      <th>1213</th>\n",
       "      <td>2014</td>\n",
       "      <td>94.0</td>\n",
       "      <td>404.0</td>\n",
       "      <td>8.0</td>\n",
       "      <td>0.0</td>\n",
       "      <td>NEWS-PAPER(ARASHIYAMA)</td>\n",
       "      <td>AxesSubplot(0.125,0.125;0.775x0.755)</td>\n",
       "      <td>April</td>\n",
       "      <td>04</td>\n",
       "    </tr>\n",
       "    <tr>\n",
       "      <th>1214</th>\n",
       "      <td>2015</td>\n",
       "      <td>93.0</td>\n",
       "      <td>403.0</td>\n",
       "      <td>8.0</td>\n",
       "      <td>0.0</td>\n",
       "      <td>NEWS-PAPER(ARASHIYAMA)</td>\n",
       "      <td>AxesSubplot(0.125,0.125;0.775x0.755)</td>\n",
       "      <td>April</td>\n",
       "      <td>03</td>\n",
       "    </tr>\n",
       "  </tbody>\n",
       "</table>\n",
       "</div>"
      ],
      "text/plain": [
       "        AD  Full_flowering_date_DOY  Full_flowering_date  Source_code  \\\n",
       "1210  2011                     99.0                409.0          8.0   \n",
       "1211  2012                    101.0                410.0          8.0   \n",
       "1212  2013                     93.0                403.0          8.0   \n",
       "1213  2014                     94.0                404.0          8.0   \n",
       "1214  2015                     93.0                403.0          8.0   \n",
       "\n",
       "      Data_type_code          Reference_Name  \\\n",
       "1210             0.0  NEWS-PAPER(ARASHIYAMA)   \n",
       "1211             0.0  NEWS-PAPER(ARASHIYAMA)   \n",
       "1212             0.0  NEWS-PAPER(ARASHIYAMA)   \n",
       "1213             0.0  NEWS-PAPER(ARASHIYAMA)   \n",
       "1214             0.0  NEWS-PAPER(ARASHIYAMA)   \n",
       "\n",
       "                              rolling_date  month day_of_month  \n",
       "1210  AxesSubplot(0.125,0.125;0.775x0.755)  April           09  \n",
       "1211  AxesSubplot(0.125,0.125;0.775x0.755)  April           10  \n",
       "1212  AxesSubplot(0.125,0.125;0.775x0.755)  April           03  \n",
       "1213  AxesSubplot(0.125,0.125;0.775x0.755)  April           04  \n",
       "1214  AxesSubplot(0.125,0.125;0.775x0.755)  April           03  "
      ]
     },
     "execution_count": 61,
     "metadata": {},
     "output_type": "execute_result"
    }
   ],
   "source": [
    "df.tail()"
   ]
  },
  {
   "cell_type": "markdown",
   "metadata": {},
   "source": [
    "### 20. Adding a date column\n",
    "\n",
    "Now take the `'month'` and `'day-of-month'` columns and combine them in order to create a new column called `'date'`"
   ]
  },
  {
   "cell_type": "code",
   "execution_count": 62,
   "metadata": {},
   "outputs": [],
   "source": [
    "df['date'] = df['day_of_month'] + df['month']"
   ]
  },
  {
   "cell_type": "markdown",
   "metadata": {},
   "source": [
    "# YOU ARE DONE.\n",
    "\n",
    "And **incredible.**"
   ]
  }
 ],
 "metadata": {
  "kernelspec": {
   "display_name": "Python 3",
   "language": "python",
   "name": "python3"
  },
  "language_info": {
   "codemirror_mode": {
    "name": "ipython",
    "version": 3
   },
   "file_extension": ".py",
   "mimetype": "text/x-python",
   "name": "python",
   "nbconvert_exporter": "python",
   "pygments_lexer": "ipython3",
   "version": "3.7.1"
  }
 },
 "nbformat": 4,
 "nbformat_minor": 2
}
